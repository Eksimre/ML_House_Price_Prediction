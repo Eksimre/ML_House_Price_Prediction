{
 "cells": [
  {
   "cell_type": "code",
   "execution_count": 1,
   "metadata": {},
   "outputs": [],
   "source": [
    "import pandas as pd\n",
    "import numpy as np\n",
    "import matplotlib.pyplot as plt\n",
    "import seaborn as sns\n",
    "from sklearn.model_selection import train_test_split\n",
    "from sklearn.linear_model import LinearRegression\n",
    "from sklearn.metrics import mean_absolute_error\n",
    "%matplotlib inline\n",
    "\n",
    "import warnings\n",
    "warnings.filterwarnings('ignore')"
   ]
  },
  {
   "cell_type": "code",
   "execution_count": 2,
   "metadata": {},
   "outputs": [
    {
     "data": {
      "text/html": [
       "<div>\n",
       "<style scoped>\n",
       "    .dataframe tbody tr th:only-of-type {\n",
       "        vertical-align: middle;\n",
       "    }\n",
       "\n",
       "    .dataframe tbody tr th {\n",
       "        vertical-align: top;\n",
       "    }\n",
       "\n",
       "    .dataframe thead th {\n",
       "        text-align: right;\n",
       "    }\n",
       "</style>\n",
       "<table border=\"1\" class=\"dataframe\">\n",
       "  <thead>\n",
       "    <tr style=\"text-align: right;\">\n",
       "      <th></th>\n",
       "      <th>Unnamed: 0</th>\n",
       "      <th>Fiyat</th>\n",
       "      <th>Oda_Sayısı</th>\n",
       "      <th>Net_m2</th>\n",
       "      <th>Katı</th>\n",
       "      <th>Yaşı</th>\n",
       "    </tr>\n",
       "  </thead>\n",
       "  <tbody>\n",
       "    <tr>\n",
       "      <th>0</th>\n",
       "      <td>0</td>\n",
       "      <td>475</td>\n",
       "      <td>1</td>\n",
       "      <td>40</td>\n",
       "      <td>0</td>\n",
       "      <td>6</td>\n",
       "    </tr>\n",
       "    <tr>\n",
       "      <th>1</th>\n",
       "      <td>1</td>\n",
       "      <td>475</td>\n",
       "      <td>1</td>\n",
       "      <td>55</td>\n",
       "      <td>0</td>\n",
       "      <td>5</td>\n",
       "    </tr>\n",
       "    <tr>\n",
       "      <th>2</th>\n",
       "      <td>2</td>\n",
       "      <td>450</td>\n",
       "      <td>1</td>\n",
       "      <td>50</td>\n",
       "      <td>0</td>\n",
       "      <td>7</td>\n",
       "    </tr>\n",
       "  </tbody>\n",
       "</table>\n",
       "</div>"
      ],
      "text/plain": [
       "   Unnamed: 0  Fiyat  Oda_Sayısı  Net_m2  Katı  Yaşı\n",
       "0           0    475           1      40     0     6\n",
       "1           1    475           1      55     0     5\n",
       "2           2    450           1      50     0     7"
      ]
     },
     "execution_count": 2,
     "metadata": {},
     "output_type": "execute_result"
    }
   ],
   "source": [
    "# Polinom regresyon modeli ile özellikleri verilen evlerin fiyat tahminini yapacağız.\n",
    "df = pd.read_excel(\"satılık_ev.xlsx\")\n",
    "df.head(3)"
   ]
  },
  {
   "cell_type": "code",
   "execution_count": 3,
   "metadata": {},
   "outputs": [
    {
     "data": {
      "text/html": [
       "<div>\n",
       "<style scoped>\n",
       "    .dataframe tbody tr th:only-of-type {\n",
       "        vertical-align: middle;\n",
       "    }\n",
       "\n",
       "    .dataframe tbody tr th {\n",
       "        vertical-align: top;\n",
       "    }\n",
       "\n",
       "    .dataframe thead th {\n",
       "        text-align: right;\n",
       "    }\n",
       "</style>\n",
       "<table border=\"1\" class=\"dataframe\">\n",
       "  <thead>\n",
       "    <tr style=\"text-align: right;\">\n",
       "      <th></th>\n",
       "      <th>Fiyat</th>\n",
       "      <th>Oda_Sayısı</th>\n",
       "      <th>Net_m2</th>\n",
       "      <th>Katı</th>\n",
       "      <th>Yaşı</th>\n",
       "    </tr>\n",
       "  </thead>\n",
       "  <tbody>\n",
       "    <tr>\n",
       "      <th>0</th>\n",
       "      <td>475</td>\n",
       "      <td>1</td>\n",
       "      <td>40</td>\n",
       "      <td>0</td>\n",
       "      <td>6</td>\n",
       "    </tr>\n",
       "  </tbody>\n",
       "</table>\n",
       "</div>"
      ],
      "text/plain": [
       "   Fiyat  Oda_Sayısı  Net_m2  Katı  Yaşı\n",
       "0    475           1      40     0     6"
      ]
     },
     "execution_count": 3,
     "metadata": {},
     "output_type": "execute_result"
    }
   ],
   "source": [
    "# Unnamed: 0 sütununu veriden çıkartıyoruz.\n",
    "df = df.drop(\"Unnamed: 0\", axis=1)\n",
    "df.head(1)"
   ]
  },
  {
   "cell_type": "code",
   "execution_count": 4,
   "metadata": {},
   "outputs": [
    {
     "name": "stdout",
     "output_type": "stream",
     "text": [
      "<class 'pandas.core.frame.DataFrame'>\n",
      "RangeIndex: 191 entries, 0 to 190\n",
      "Data columns (total 5 columns):\n",
      " #   Column      Non-Null Count  Dtype\n",
      "---  ------      --------------  -----\n",
      " 0   Fiyat       191 non-null    int64\n",
      " 1   Oda_Sayısı  191 non-null    int64\n",
      " 2   Net_m2      191 non-null    int64\n",
      " 3   Katı        191 non-null    int64\n",
      " 4   Yaşı        191 non-null    int64\n",
      "dtypes: int64(5)\n",
      "memory usage: 7.6 KB\n"
     ]
    }
   ],
   "source": [
    "# Veri hakında\n",
    "df.info()"
   ]
  },
  {
   "cell_type": "code",
   "execution_count": 5,
   "metadata": {},
   "outputs": [
    {
     "data": {
      "text/plain": [
       "Fiyat         0\n",
       "Oda_Sayısı    0\n",
       "Net_m2        0\n",
       "Katı          0\n",
       "Yaşı          0\n",
       "dtype: int64"
      ]
     },
     "execution_count": 5,
     "metadata": {},
     "output_type": "execute_result"
    }
   ],
   "source": [
    "# Eksik veri kontrolu.\n",
    "df.isnull().sum()"
   ]
  },
  {
   "cell_type": "code",
   "execution_count": 6,
   "metadata": {},
   "outputs": [
    {
     "data": {
      "text/html": [
       "<div>\n",
       "<style scoped>\n",
       "    .dataframe tbody tr th:only-of-type {\n",
       "        vertical-align: middle;\n",
       "    }\n",
       "\n",
       "    .dataframe tbody tr th {\n",
       "        vertical-align: top;\n",
       "    }\n",
       "\n",
       "    .dataframe thead th {\n",
       "        text-align: right;\n",
       "    }\n",
       "</style>\n",
       "<table border=\"1\" class=\"dataframe\">\n",
       "  <thead>\n",
       "    <tr style=\"text-align: right;\">\n",
       "      <th></th>\n",
       "      <th>count</th>\n",
       "      <th>mean</th>\n",
       "      <th>std</th>\n",
       "      <th>min</th>\n",
       "      <th>25%</th>\n",
       "      <th>50%</th>\n",
       "      <th>75%</th>\n",
       "      <th>max</th>\n",
       "    </tr>\n",
       "  </thead>\n",
       "  <tbody>\n",
       "    <tr>\n",
       "      <th>Fiyat</th>\n",
       "      <td>191.0</td>\n",
       "      <td>649.476440</td>\n",
       "      <td>111.064174</td>\n",
       "      <td>450.0</td>\n",
       "      <td>575.0</td>\n",
       "      <td>650.0</td>\n",
       "      <td>700.0</td>\n",
       "      <td>1175.0</td>\n",
       "    </tr>\n",
       "    <tr>\n",
       "      <th>Oda_Sayısı</th>\n",
       "      <td>191.0</td>\n",
       "      <td>2.340314</td>\n",
       "      <td>0.721401</td>\n",
       "      <td>1.0</td>\n",
       "      <td>2.0</td>\n",
       "      <td>2.0</td>\n",
       "      <td>3.0</td>\n",
       "      <td>3.0</td>\n",
       "    </tr>\n",
       "    <tr>\n",
       "      <th>Net_m2</th>\n",
       "      <td>191.0</td>\n",
       "      <td>85.183246</td>\n",
       "      <td>16.482620</td>\n",
       "      <td>40.0</td>\n",
       "      <td>80.0</td>\n",
       "      <td>90.0</td>\n",
       "      <td>95.0</td>\n",
       "      <td>125.0</td>\n",
       "    </tr>\n",
       "    <tr>\n",
       "      <th>Katı</th>\n",
       "      <td>191.0</td>\n",
       "      <td>3.931937</td>\n",
       "      <td>3.752974</td>\n",
       "      <td>0.0</td>\n",
       "      <td>0.0</td>\n",
       "      <td>3.0</td>\n",
       "      <td>7.0</td>\n",
       "      <td>11.0</td>\n",
       "    </tr>\n",
       "    <tr>\n",
       "      <th>Yaşı</th>\n",
       "      <td>191.0</td>\n",
       "      <td>12.753927</td>\n",
       "      <td>8.374596</td>\n",
       "      <td>0.0</td>\n",
       "      <td>4.0</td>\n",
       "      <td>16.0</td>\n",
       "      <td>20.0</td>\n",
       "      <td>24.0</td>\n",
       "    </tr>\n",
       "  </tbody>\n",
       "</table>\n",
       "</div>"
      ],
      "text/plain": [
       "            count        mean         std    min    25%    50%    75%     max\n",
       "Fiyat       191.0  649.476440  111.064174  450.0  575.0  650.0  700.0  1175.0\n",
       "Oda_Sayısı  191.0    2.340314    0.721401    1.0    2.0    2.0    3.0     3.0\n",
       "Net_m2      191.0   85.183246   16.482620   40.0   80.0   90.0   95.0   125.0\n",
       "Katı        191.0    3.931937    3.752974    0.0    0.0    3.0    7.0    11.0\n",
       "Yaşı        191.0   12.753927    8.374596    0.0    4.0   16.0   20.0    24.0"
      ]
     },
     "execution_count": 6,
     "metadata": {},
     "output_type": "execute_result"
    }
   ],
   "source": [
    "df.describe().T"
   ]
  },
  {
   "cell_type": "code",
   "execution_count": 7,
   "metadata": {},
   "outputs": [
    {
     "data": {
      "text/html": [
       "<div>\n",
       "<style scoped>\n",
       "    .dataframe tbody tr th:only-of-type {\n",
       "        vertical-align: middle;\n",
       "    }\n",
       "\n",
       "    .dataframe tbody tr th {\n",
       "        vertical-align: top;\n",
       "    }\n",
       "\n",
       "    .dataframe thead th {\n",
       "        text-align: right;\n",
       "    }\n",
       "</style>\n",
       "<table border=\"1\" class=\"dataframe\">\n",
       "  <thead>\n",
       "    <tr style=\"text-align: right;\">\n",
       "      <th></th>\n",
       "      <th>Fiyat</th>\n",
       "      <th>Oda_Sayısı</th>\n",
       "      <th>Net_m2</th>\n",
       "      <th>Katı</th>\n",
       "      <th>Yaşı</th>\n",
       "    </tr>\n",
       "  </thead>\n",
       "  <tbody>\n",
       "    <tr>\n",
       "      <th>Fiyat</th>\n",
       "      <td>1.000000</td>\n",
       "      <td>0.672268</td>\n",
       "      <td>0.749723</td>\n",
       "      <td>0.380615</td>\n",
       "      <td>0.038339</td>\n",
       "    </tr>\n",
       "    <tr>\n",
       "      <th>Oda_Sayısı</th>\n",
       "      <td>0.672268</td>\n",
       "      <td>1.000000</td>\n",
       "      <td>0.811385</td>\n",
       "      <td>-0.084711</td>\n",
       "      <td>0.614175</td>\n",
       "    </tr>\n",
       "    <tr>\n",
       "      <th>Net_m2</th>\n",
       "      <td>0.749723</td>\n",
       "      <td>0.811385</td>\n",
       "      <td>1.000000</td>\n",
       "      <td>0.156756</td>\n",
       "      <td>0.201650</td>\n",
       "    </tr>\n",
       "    <tr>\n",
       "      <th>Katı</th>\n",
       "      <td>0.380615</td>\n",
       "      <td>-0.084711</td>\n",
       "      <td>0.156756</td>\n",
       "      <td>1.000000</td>\n",
       "      <td>-0.460209</td>\n",
       "    </tr>\n",
       "    <tr>\n",
       "      <th>Yaşı</th>\n",
       "      <td>0.038339</td>\n",
       "      <td>0.614175</td>\n",
       "      <td>0.201650</td>\n",
       "      <td>-0.460209</td>\n",
       "      <td>1.000000</td>\n",
       "    </tr>\n",
       "  </tbody>\n",
       "</table>\n",
       "</div>"
      ],
      "text/plain": [
       "               Fiyat  Oda_Sayısı    Net_m2      Katı      Yaşı\n",
       "Fiyat       1.000000    0.672268  0.749723  0.380615  0.038339\n",
       "Oda_Sayısı  0.672268    1.000000  0.811385 -0.084711  0.614175\n",
       "Net_m2      0.749723    0.811385  1.000000  0.156756  0.201650\n",
       "Katı        0.380615   -0.084711  0.156756  1.000000 -0.460209\n",
       "Yaşı        0.038339    0.614175  0.201650 -0.460209  1.000000"
      ]
     },
     "execution_count": 7,
     "metadata": {},
     "output_type": "execute_result"
    }
   ],
   "source": [
    "# Birbirleriyle korelasyon durumunu inceliyoruz.\n",
    "df.corr(numeric_only=True)"
   ]
  },
  {
   "cell_type": "code",
   "execution_count": 8,
   "metadata": {},
   "outputs": [
    {
     "data": {
      "image/png": "[encoded data removed]",
      "text/plain": [
       "<Figure size 1200x1000 with 2 Axes>"
      ]
     },
     "metadata": {},
     "output_type": "display_data"
    }
   ],
   "source": [
    "plt.figure(figsize=(12,10))\n",
    "cor = df.corr()\n",
    "sns.heatmap(cor, annot=True, cmap=plt.cm.Reds)\n",
    "plt.show;"
   ]
  },
  {
   "cell_type": "markdown",
   "metadata": {},
   "source": [
    "* Daire fiyatının oda sayısı ve m2 ile yüksek korelasyonlu olduğunu, binanın yaşı ile düşük korelasyonlu olduğunu söyleyebiliriz."
   ]
  },
  {
   "cell_type": "code",
   "execution_count": 9,
   "metadata": {},
   "outputs": [
    {
     "name": "stdout",
     "output_type": "stream",
     "text": [
      "x_train shape: (152, 4)\n",
      "x_test shape: (39, 4)\n",
      "y_train shape: (152,)\n",
      "y_test shape: (39,)\n"
     ]
    }
   ],
   "source": [
    "# Hedef değişken ve bağımsız değişkenleri belirliyorum.\n",
    "X = df.drop(\"Fiyat\", axis=1)\n",
    "y = df[\"Fiyat\"]\n",
    "\n",
    "# Veri setini, eğitim ve test verisi olarak ayırıyorum.\n",
    "X_train, X_test, y_train, y_test = train_test_split(X,y,test_size = 0.2, random_state = 42)\n",
    "\n",
    "print(\"x_train shape:\",X_train.shape)\n",
    "print(\"x_test shape:\",X_test.shape)\n",
    "print(\"y_train shape:\",y_train.shape)\n",
    "print(\"y_test shape:\",y_test.shape)"
   ]
  },
  {
   "cell_type": "code",
   "execution_count": 10,
   "metadata": {},
   "outputs": [
    {
     "data": {
      "text/plain": [
       "Fiyat         1.000000\n",
       "Oda_Sayısı    0.675721\n",
       "Net_m2        0.769196\n",
       "Name: Fiyat, dtype: float64"
      ]
     },
     "execution_count": 10,
     "metadata": {},
     "output_type": "execute_result"
    }
   ],
   "source": [
    "# Hedef değişken ile 0.5 den yüksek korelasyona sahip bağımsız değişkenleri tekrar görelim.\n",
    "cor = pd.concat([y_train, X_train], axis=1).corr(method=\"pearson\")\n",
    "cor_target = abs(cor[\"Fiyat\"])\n",
    "relevant_features = cor_target[cor_target > 0.5]\n",
    "relevant_features"
   ]
  },
  {
   "cell_type": "code",
   "execution_count": 11,
   "metadata": {},
   "outputs": [],
   "source": [
    "from sklearn.preprocessing import PolynomialFeatures"
   ]
  },
  {
   "cell_type": "code",
   "execution_count": 12,
   "metadata": {},
   "outputs": [
    {
     "name": "stdout",
     "output_type": "stream",
     "text": [
      "En iyi model 6.373221036575792 RMSE hata skoru veren, 2 polinom dercesi ile sağlanıyor\n"
     ]
    }
   ],
   "source": [
    "# Öznitelik değişkenlerinin polinom derecelerini oluşturup her bir polinom derecesi ile oluşturulan modelin hata skorunu hesaplatıyoruz.\n",
    "# Hata skorunu RMSE'ü kulanıyoruz.\n",
    "rmses = []\n",
    "degrees = np.arange(1,10);\n",
    "min_rmse, min_deg = 1e10, 0\n",
    "\n",
    "for deg in degrees:\n",
    "    # Eğitim seti öznitelikleri\n",
    "    poly_features = PolynomialFeatures(degree=deg, include_bias=False)\n",
    "    X_poly_train= poly_features.fit_transform(X_train)\n",
    "    # Doğrusal regresyon\n",
    "    poly_reg = LinearRegression()\n",
    "    poly_reg.fit(X_poly_train, y_train)\n",
    "    # Test seti ile karşılaştırılması\n",
    "    X_poly_test = poly_features.fit_transform(X_test)\n",
    "    poly_predict = poly_reg.predict(X_poly_test)\n",
    "    poly_mse = mean_absolute_error(y_test, poly_predict)\n",
    "    poly_rmse = np.sqrt(poly_mse)\n",
    "    rmses.append(poly_rmse)\n",
    "    # Çapraz doğrulama ile polinom derecesi\n",
    "    if min_rmse > poly_rmse:\n",
    "        min_rmse = poly_rmse\n",
    "        min_deg = deg\n",
    "\n",
    "print(\"En iyi model {} RMSE hata skoru veren, {} polinom dercesi ile sağlanıyor\".format(min_rmse,min_deg))"
   ]
  },
  {
   "cell_type": "code",
   "execution_count": 13,
   "metadata": {},
   "outputs": [
    {
     "data": {
      "image/png": "[encoded data removed]",
      "text/plain": [
       "<Figure size 1000x600 with 1 Axes>"
      ]
     },
     "metadata": {},
     "output_type": "display_data"
    }
   ],
   "source": [
    "# Belirlediğim tüm polinom dereceleri için rmse skorları grafdiği\n",
    "plt.style.use(\"fivethirtyeight\")\n",
    "fig = plt.figure(figsize=(10,6))\n",
    "ax = fig.add_subplot(111)\n",
    "ax.plot(degrees, rmses)\n",
    "ax.set_yscale(\"log\")\n",
    "ax.set_xlabel(\"Degree\")\n",
    "ax.set_ylabel(\"RMSE\")\n",
    "plt.text(5.2, 200, (\"En iyi hata skorunu veren \\npolinom Derecesi {} \\nRMSE {}\".format(min_deg, min_rmse)), style=\"italic\")\n",
    "bbox = {\"facecolor\":\"orange\", \"alpha\":0.4, \"pad\":10}"
   ]
  },
  {
   "cell_type": "code",
   "execution_count": 14,
   "metadata": {},
   "outputs": [],
   "source": [
    "# Uygun polinom derecesine göre modeli oluşturuyorum.\n",
    "polinom_dercesi = PolynomialFeatures(degree=2)\n",
    "X_train_polinom = polinom_dercesi.fit_transform(X_train) \n",
    "X_test_polinom = polinom_dercesi.fit_transform(X_test)"
   ]
  },
  {
   "cell_type": "code",
   "execution_count": 15,
   "metadata": {},
   "outputs": [
    {
     "name": "stdout",
     "output_type": "stream",
     "text": [
      "Polinom Reg r2 Eğitim:  0.8488074651060601\n",
      "Polinom Reg r2 Test:  0.766381462333309\n"
     ]
    }
   ],
   "source": [
    "# Polinom reg algoritmasını eğitiyoruz\n",
    "model = LinearRegression()\n",
    "model.fit(X_train_polinom, y_train)\n",
    "\n",
    "# Çoklu pol. reg. modelinin ön görülen performansları\n",
    "print(\"Polinom Reg r2 Eğitim: \", model.score(X_train_polinom, y_train))\n",
    "print(\"Polinom Reg r2 Test: \", model.score(X_test_polinom, y_test))"
   ]
  },
  {
   "cell_type": "code",
   "execution_count": 16,
   "metadata": {},
   "outputs": [
    {
     "name": "stdout",
     "output_type": "stream",
     "text": [
      "   Fiyat  Tahmin_ev_fiyatı\n",
      "0    475        473.924285\n",
      "1    475        456.574335\n",
      "2    450        469.501809\n",
      "3    450        486.973706\n",
      "4    475        530.482950\n"
     ]
    }
   ],
   "source": [
    "# Tahmin edilen ile gerçek fiyatları görelim.\n",
    "X_poly = polinom_dercesi.transform(X)\n",
    "\n",
    "df[\"Tahmin_ev_fiyatı\"] = model.predict(X_poly)\n",
    "print(df[[\"Fiyat\", \"Tahmin_ev_fiyatı\",]].head(5))"
   ]
  },
  {
   "cell_type": "code",
   "execution_count": 17,
   "metadata": {},
   "outputs": [
    {
     "name": "stdout",
     "output_type": "stream",
     "text": [
      "Tahmini ev fiyatı: 792.062 bin TL\n"
     ]
    }
   ],
   "source": [
    "# Modele kendimiz bir tahmin yaptıralım.\n",
    "Oda_sayisi = 4\n",
    "Net_m2 = 80\n",
    "Kati = 2\n",
    "Yasi = 10\n",
    "\n",
    "ev1 = [[Oda_sayisi, Net_m2, Kati, Yasi]]\n",
    "ev1_t = polinom_dercesi.transform(ev1)\n",
    "\n",
    "fiyat = model.predict(ev1_t)\n",
    "\n",
    "print(\"Tahmini ev fiyatı:\", round(fiyat[0],3), \"bin TL\")\n"
   ]
  },
  {
   "cell_type": "code",
   "execution_count": 18,
   "metadata": {},
   "outputs": [
    {
     "data": {
      "text/plain": [
       "['pol_features']"
      ]
     },
     "execution_count": 18,
     "metadata": {},
     "output_type": "execute_result"
    }
   ],
   "source": [
    "# Oluşturduğumuz modeli ve polinom derecesini kaydediyorum.\n",
    "import joblib\n",
    "\n",
    "joblib.dump(model, \"model\")\n",
    "joblib.dump(polinom_dercesi, \"pol_features\")"
   ]
  },
  {
   "cell_type": "markdown",
   "metadata": {},
   "source": [
    "--------------------"
   ]
  }
 ],
 "metadata": {
  "kernelspec": {
   "display_name": "base",
   "language": "python",
   "name": "python3"
  },
  "language_info": {
   "codemirror_mode": {
    "name": "ipython",
    "version": 3
   },
   "file_extension": ".py",
   "mimetype": "text/x-python",
   "name": "python",
   "nbconvert_exporter": "python",
   "pygments_lexer": "ipython3",
   "version": "3.9.17"
  }
 },
 "nbformat": 4,
 "nbformat_minor": 2
}
